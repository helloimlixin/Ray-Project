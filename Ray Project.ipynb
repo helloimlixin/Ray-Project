{
 "cells": [
  {
   "cell_type": "markdown",
   "metadata": {},
   "source": [
    "# Tutorial"
   ]
  },
  {
   "cell_type": "markdown",
   "metadata": {},
   "source": [
    "Ray is a Python-based distributed execution $\\bf engine$. The same code can be run on a single machine to achieve efficient multiprocessing, and it can be used on a cluster for large computations.\n",
    "\n",
    "When using Ray, several processes are involved.\n",
    "\n",
    "   • Multiple $\\bf \\text{worker}$ processes execute tasks and store results in object stores. Each worker is a separate process.\n",
    "\n",
    "   • One $\\bf \\text{object store}$ per node stores immutable objects in shared memory and allows workers to efficiently share objects on the same node with minimal copying and deserialization.\n",
    "\n",
    "   • One $\\bf \\text{local scheduler}$ per node assigns tasks to workers on the same node.\n",
    "\n",
    "   • A $\\bf \\text{global scheduler}$ receives tasks from local schedulers and assigns them to other local schedulers.\n",
    "\n",
    "   • A $\\bf \\text{driver}$ is the Python process that the user controls. For example, if the user is running a script or using a Python shell, then the driver is the Python process that runs the script or the shell. A driver is similar to a worker in that it can submit tasks to its local scheduler and get objects from the object store, but it is different in that the local scheduler will not assign tasks to the driver to be executed.\n",
    "\n",
    "   • A $\\bf \\text{Redis}$ server maintains much of the system’s state. For example, it keeps track of which objects live on which machines and of the task specifications (but not data). It can also be queried directly for debugging purposes."
   ]
  },
  {
   "cell_type": "code",
   "execution_count": null,
   "metadata": {
    "collapsed": true
   },
   "outputs": [],
   "source": []
  }
 ],
 "metadata": {
  "kernelspec": {
   "display_name": "Python 3",
   "language": "python",
   "name": "python3"
  },
  "language_info": {
   "codemirror_mode": {
    "name": "ipython",
    "version": 3
   },
   "file_extension": ".py",
   "mimetype": "text/x-python",
   "name": "python",
   "nbconvert_exporter": "python",
   "pygments_lexer": "ipython3",
   "version": "3.6.2"
  }
 },
 "nbformat": 4,
 "nbformat_minor": 2
}
